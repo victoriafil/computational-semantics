{
 "cells": [
  {
   "cell_type": "code",
   "execution_count": 1,
   "id": "ae352b7a-729d-4aa6-9562-fa976e247ed2",
   "metadata": {},
   "outputs": [
    {
     "name": "stderr",
     "output_type": "stream",
     "text": [
      "/home/xilini@GU.GU.SE/anaconda3/envs/compsem/lib/python3.9/site-packages/tqdm/auto.py:21: TqdmWarning: IProgress not found. Please update jupyter and ipywidgets. See https://ipywidgets.readthedocs.io/en/stable/user_install.html\n",
      "  from .autonotebook import tqdm as notebook_tqdm\n"
     ]
    }
   ],
   "source": [
    "import torch\n",
    "import torch.nn.functional as F"
   ]
  },
  {
   "cell_type": "code",
   "execution_count": null,
   "id": "74255855-28e8-40d4-a49b-f62508b76257",
   "metadata": {},
   "outputs": [],
   "source": []
  },
  {
   "cell_type": "code",
   "execution_count": 2,
   "id": "e11be508-b61a-44ff-81c0-2268128123bd",
   "metadata": {},
   "outputs": [],
   "source": [
    "batch_size = 2\n",
    "sequence_size = 10\n",
    "dimension_size = 512"
   ]
  },
  {
   "cell_type": "code",
   "execution_count": 3,
   "id": "06413193-48e6-45a2-a948-6542862bac29",
   "metadata": {},
   "outputs": [],
   "source": [
    "X = torch.rand(batch_size, sequence_size, dimension_size)"
   ]
  },
  {
   "cell_type": "code",
   "execution_count": 4,
   "id": "fe5ce727-4e37-4ddb-af0c-7ae897e0d8ce",
   "metadata": {},
   "outputs": [
    {
     "data": {
      "text/plain": [
       "torch.Size([2, 10, 512])"
      ]
     },
     "execution_count": 4,
     "metadata": {},
     "output_type": "execute_result"
    }
   ],
   "source": [
    "X.shape"
   ]
  },
  {
   "cell_type": "code",
   "execution_count": 5,
   "id": "c71708b1-5637-4a14-9d44-12ee1e3dcf10",
   "metadata": {},
   "outputs": [
    {
     "data": {
      "text/plain": [
       "tensor([[[0.7972, 0.9107, 0.3476,  ..., 0.0161, 0.4684, 0.8573],\n",
       "         [0.6835, 0.6850, 0.1866,  ..., 0.7891, 0.0558, 0.3691],\n",
       "         [0.0484, 0.6103, 0.1663,  ..., 0.6652, 0.4410, 0.2054],\n",
       "         ...,\n",
       "         [0.5687, 0.9382, 0.0334,  ..., 0.1783, 0.8655, 0.0550],\n",
       "         [0.8593, 0.1502, 0.9706,  ..., 0.7714, 0.2001, 0.9810],\n",
       "         [0.1401, 0.7820, 0.0012,  ..., 0.7534, 0.1224, 0.1316]],\n",
       "\n",
       "        [[0.7725, 0.8038, 0.5548,  ..., 0.8106, 0.9348, 0.1920],\n",
       "         [0.2415, 0.3012, 0.1258,  ..., 0.5033, 0.4164, 0.5353],\n",
       "         [0.6066, 0.8001, 0.3196,  ..., 0.1229, 0.9644, 0.0695],\n",
       "         ...,\n",
       "         [0.2941, 0.5257, 0.9837,  ..., 0.3689, 0.8956, 0.8976],\n",
       "         [0.6220, 0.1326, 0.5128,  ..., 0.6187, 0.3986, 0.8743],\n",
       "         [0.6737, 0.7558, 0.0177,  ..., 0.2288, 0.7728, 0.2693]]])"
      ]
     },
     "execution_count": 5,
     "metadata": {},
     "output_type": "execute_result"
    }
   ],
   "source": [
    "X"
   ]
  },
  {
   "cell_type": "code",
   "execution_count": 6,
   "id": "b9b713e3-1dc8-4a5e-8437-a7a34b31ecf9",
   "metadata": {},
   "outputs": [],
   "source": [
    "# torch.bmm is a batched matrix multiplication\n",
    "raw_weights = torch.bmm(X, X.transpose(1, 2))"
   ]
  },
  {
   "cell_type": "code",
   "execution_count": 7,
   "id": "0818e09f-2311-45f9-ad0c-754799d3466f",
   "metadata": {},
   "outputs": [
    {
     "data": {
      "text/plain": [
       "tensor([[175.7629, 132.4185, 130.6548, 130.1246, 132.7341, 129.2438, 137.8691,\n",
       "         135.2160, 127.7514, 129.3416],\n",
       "        [132.4185, 168.0042, 128.7352, 122.8057, 124.6702, 126.4963, 134.2721,\n",
       "         130.4998, 121.4668, 127.2200],\n",
       "        [130.6548, 128.7352, 171.8701, 124.8773, 125.3165, 122.9939, 136.0140,\n",
       "         132.5821, 123.7235, 131.2590],\n",
       "        [130.1246, 122.8057, 124.8773, 159.6731, 123.1352, 118.1296, 129.1505,\n",
       "         128.0027, 121.0963, 122.9911],\n",
       "        [132.7341, 124.6702, 125.3165, 123.1352, 164.8947, 124.8289, 131.9359,\n",
       "         126.1846, 117.9964, 125.3555],\n",
       "        [129.2438, 126.4963, 122.9939, 118.1296, 124.8289, 160.5341, 131.3461,\n",
       "         127.8684, 122.5303, 125.5314],\n",
       "        [137.8691, 134.2721, 136.0140, 129.1505, 131.9359, 131.3461, 184.3858,\n",
       "         138.7914, 135.6242, 137.1956],\n",
       "        [135.2160, 130.4998, 132.5821, 128.0027, 126.1846, 127.8684, 138.7914,\n",
       "         174.8904, 125.0862, 134.0635],\n",
       "        [127.7514, 121.4668, 123.7235, 121.0963, 117.9964, 122.5303, 135.6242,\n",
       "         125.0862, 167.8535, 125.4821],\n",
       "        [129.3416, 127.2200, 131.2590, 122.9911, 125.3555, 125.5314, 137.1956,\n",
       "         134.0635, 125.4821, 173.3085]])"
      ]
     },
     "execution_count": 7,
     "metadata": {},
     "output_type": "execute_result"
    }
   ],
   "source": [
    "raw_weights[0]"
   ]
  },
  {
   "cell_type": "code",
   "execution_count": 8,
   "id": "7c471ed6-e72a-4fa8-9d9a-31325683c6e5",
   "metadata": {},
   "outputs": [],
   "source": [
    "weights = F.softmax(raw_weights, dim = -1)"
   ]
  },
  {
   "cell_type": "code",
   "execution_count": 9,
   "id": "e0b1af5e-b04e-4d58-82aa-0608c7566b5a",
   "metadata": {},
   "outputs": [],
   "source": [
    "Y = torch.bmm(weights, X)"
   ]
  },
  {
   "cell_type": "code",
   "execution_count": 10,
   "id": "1b862da3-d353-460c-a27b-49cbf0cc023f",
   "metadata": {},
   "outputs": [
    {
     "data": {
      "text/plain": [
       "tensor([[[0.7972, 0.9107, 0.3476,  ..., 0.0161, 0.4684, 0.8573],\n",
       "         [0.6835, 0.6850, 0.1866,  ..., 0.7891, 0.0558, 0.3691],\n",
       "         [0.0484, 0.6103, 0.1663,  ..., 0.6652, 0.4410, 0.2054],\n",
       "         ...,\n",
       "         [0.5687, 0.9382, 0.0334,  ..., 0.1783, 0.8655, 0.0550],\n",
       "         [0.8593, 0.1502, 0.9706,  ..., 0.7714, 0.2001, 0.9810],\n",
       "         [0.1401, 0.7820, 0.0012,  ..., 0.7534, 0.1224, 0.1316]],\n",
       "\n",
       "        [[0.7725, 0.8038, 0.5548,  ..., 0.8106, 0.9348, 0.1920],\n",
       "         [0.2415, 0.3012, 0.1258,  ..., 0.5033, 0.4164, 0.5353],\n",
       "         [0.6066, 0.8001, 0.3196,  ..., 0.1229, 0.9644, 0.0695],\n",
       "         ...,\n",
       "         [0.2941, 0.5257, 0.9837,  ..., 0.3689, 0.8956, 0.8976],\n",
       "         [0.6220, 0.1326, 0.5128,  ..., 0.6187, 0.3986, 0.8743],\n",
       "         [0.6737, 0.7558, 0.0177,  ..., 0.2288, 0.7728, 0.2693]]])"
      ]
     },
     "execution_count": 10,
     "metadata": {},
     "output_type": "execute_result"
    }
   ],
   "source": [
    "Y"
   ]
  },
  {
   "cell_type": "code",
   "execution_count": null,
   "id": "cdaf7ba9-e3ad-4363-af4a-8dc08e8c2cea",
   "metadata": {},
   "outputs": [],
   "source": []
  }
 ],
 "metadata": {
  "kernelspec": {
   "display_name": "compsem",
   "language": "python",
   "name": "compsem"
  },
  "language_info": {
   "codemirror_mode": {
    "name": "ipython",
    "version": 3
   },
   "file_extension": ".py",
   "mimetype": "text/x-python",
   "name": "python",
   "nbconvert_exporter": "python",
   "pygments_lexer": "ipython3",
   "version": "3.9.16"
  }
 },
 "nbformat": 4,
 "nbformat_minor": 5
}
